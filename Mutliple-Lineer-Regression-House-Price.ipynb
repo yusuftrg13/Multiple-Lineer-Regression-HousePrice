{
 "cells": [
  {
   "cell_type": "code",
   "execution_count": 1,
   "id": "677446ce",
   "metadata": {},
   "outputs": [],
   "source": [
    "#Pandas kütüphanemizi import edelim\n",
    "import pandas as pd"
   ]
  },
  {
   "cell_type": "code",
   "execution_count": 2,
   "id": "12b00e7f",
   "metadata": {},
   "outputs": [],
   "source": [
    "#Verimizi yükleyelim;\n",
    "data=pd.read_csv('House_price.csv')"
   ]
  },
  {
   "cell_type": "code",
   "execution_count": 3,
   "id": "b2bcb7d0",
   "metadata": {},
   "outputs": [
    {
     "data": {
      "text/html": [
       "<div>\n",
       "<style scoped>\n",
       "    .dataframe tbody tr th:only-of-type {\n",
       "        vertical-align: middle;\n",
       "    }\n",
       "\n",
       "    .dataframe tbody tr th {\n",
       "        vertical-align: top;\n",
       "    }\n",
       "\n",
       "    .dataframe thead th {\n",
       "        text-align: right;\n",
       "    }\n",
       "</style>\n",
       "<table border=\"1\" class=\"dataframe\">\n",
       "  <thead>\n",
       "    <tr style=\"text-align: right;\">\n",
       "      <th></th>\n",
       "      <th>Avg. Area Income</th>\n",
       "      <th>House Age</th>\n",
       "      <th>Number of Rooms</th>\n",
       "      <th>Number of Bedrooms</th>\n",
       "      <th>Area Population</th>\n",
       "      <th>Price</th>\n",
       "      <th>Address</th>\n",
       "    </tr>\n",
       "  </thead>\n",
       "  <tbody>\n",
       "    <tr>\n",
       "      <th>0</th>\n",
       "      <td>79545.45857</td>\n",
       "      <td>5.682861</td>\n",
       "      <td>7.009188</td>\n",
       "      <td>4.09</td>\n",
       "      <td>23086.80050</td>\n",
       "      <td>1.059034e+06</td>\n",
       "      <td>208 Michael Ferry Apt. 674\\nLaurabury, NE 3701...</td>\n",
       "    </tr>\n",
       "    <tr>\n",
       "      <th>1</th>\n",
       "      <td>79248.64245</td>\n",
       "      <td>6.002900</td>\n",
       "      <td>6.730821</td>\n",
       "      <td>3.09</td>\n",
       "      <td>40173.07217</td>\n",
       "      <td>1.505891e+06</td>\n",
       "      <td>188 Johnson Views Suite 079\\nLake Kathleen, CA...</td>\n",
       "    </tr>\n",
       "    <tr>\n",
       "      <th>2</th>\n",
       "      <td>61287.06718</td>\n",
       "      <td>5.865890</td>\n",
       "      <td>8.512727</td>\n",
       "      <td>5.13</td>\n",
       "      <td>36882.15940</td>\n",
       "      <td>1.058988e+06</td>\n",
       "      <td>9127 Elizabeth Stravenue\\nDanieltown, WI 06482...</td>\n",
       "    </tr>\n",
       "    <tr>\n",
       "      <th>3</th>\n",
       "      <td>63345.24005</td>\n",
       "      <td>7.188236</td>\n",
       "      <td>5.586729</td>\n",
       "      <td>3.26</td>\n",
       "      <td>34310.24283</td>\n",
       "      <td>1.260617e+06</td>\n",
       "      <td>USS Barnett\\nFPO AP 44820</td>\n",
       "    </tr>\n",
       "    <tr>\n",
       "      <th>4</th>\n",
       "      <td>59982.19723</td>\n",
       "      <td>5.040555</td>\n",
       "      <td>7.839388</td>\n",
       "      <td>4.23</td>\n",
       "      <td>26354.10947</td>\n",
       "      <td>6.309435e+05</td>\n",
       "      <td>USNS Raymond\\nFPO AE 09386</td>\n",
       "    </tr>\n",
       "  </tbody>\n",
       "</table>\n",
       "</div>"
      ],
      "text/plain": [
       "   Avg. Area Income  House Age  Number of Rooms  Number of Bedrooms  \\\n",
       "0       79545.45857   5.682861         7.009188                4.09   \n",
       "1       79248.64245   6.002900         6.730821                3.09   \n",
       "2       61287.06718   5.865890         8.512727                5.13   \n",
       "3       63345.24005   7.188236         5.586729                3.26   \n",
       "4       59982.19723   5.040555         7.839388                4.23   \n",
       "\n",
       "   Area Population         Price  \\\n",
       "0      23086.80050  1.059034e+06   \n",
       "1      40173.07217  1.505891e+06   \n",
       "2      36882.15940  1.058988e+06   \n",
       "3      34310.24283  1.260617e+06   \n",
       "4      26354.10947  6.309435e+05   \n",
       "\n",
       "                                             Address  \n",
       "0  208 Michael Ferry Apt. 674\\nLaurabury, NE 3701...  \n",
       "1  188 Johnson Views Suite 079\\nLake Kathleen, CA...  \n",
       "2  9127 Elizabeth Stravenue\\nDanieltown, WI 06482...  \n",
       "3                          USS Barnett\\nFPO AP 44820  \n",
       "4                         USNS Raymond\\nFPO AE 09386  "
      ]
     },
     "execution_count": 3,
     "metadata": {},
     "output_type": "execute_result"
    }
   ],
   "source": [
    "#Veri setimizin birkaç satırını inceleyelim\n",
    "data.head()"
   ]
  },
  {
   "cell_type": "code",
   "execution_count": 4,
   "id": "d7285935",
   "metadata": {},
   "outputs": [
    {
     "name": "stdout",
     "output_type": "stream",
     "text": [
      "<class 'pandas.core.frame.DataFrame'>\n",
      "RangeIndex: 4548 entries, 0 to 4547\n",
      "Data columns (total 7 columns):\n",
      " #   Column              Non-Null Count  Dtype  \n",
      "---  ------              --------------  -----  \n",
      " 0   Avg. Area Income    4548 non-null   float64\n",
      " 1   House Age           4548 non-null   float64\n",
      " 2   Number of Rooms     4548 non-null   float64\n",
      " 3   Number of Bedrooms  4548 non-null   float64\n",
      " 4   Area Population     4548 non-null   float64\n",
      " 5   Price               4548 non-null   float64\n",
      " 6   Address             4548 non-null   object \n",
      "dtypes: float64(6), object(1)\n",
      "memory usage: 248.8+ KB\n"
     ]
    }
   ],
   "source": [
    "#Veri seti hakkında genel bilgi\n",
    "data.info()"
   ]
  },
  {
   "cell_type": "code",
   "execution_count": 5,
   "id": "241d37fc",
   "metadata": {},
   "outputs": [
    {
     "data": {
      "text/plain": [
       "Avg. Area Income      0\n",
       "House Age             0\n",
       "Number of Rooms       0\n",
       "Number of Bedrooms    0\n",
       "Area Population       0\n",
       "Price                 0\n",
       "Address               0\n",
       "dtype: int64"
      ]
     },
     "execution_count": 5,
     "metadata": {},
     "output_type": "execute_result"
    }
   ],
   "source": [
    "#Eksik veri kontrolü\n",
    "data.isnull().sum()"
   ]
  },
  {
   "cell_type": "code",
   "execution_count": 6,
   "id": "bfcd0683",
   "metadata": {},
   "outputs": [
    {
     "data": {
      "text/html": [
       "<div>\n",
       "<style scoped>\n",
       "    .dataframe tbody tr th:only-of-type {\n",
       "        vertical-align: middle;\n",
       "    }\n",
       "\n",
       "    .dataframe tbody tr th {\n",
       "        vertical-align: top;\n",
       "    }\n",
       "\n",
       "    .dataframe thead th {\n",
       "        text-align: right;\n",
       "    }\n",
       "</style>\n",
       "<table border=\"1\" class=\"dataframe\">\n",
       "  <thead>\n",
       "    <tr style=\"text-align: right;\">\n",
       "      <th></th>\n",
       "      <th>Avg. Area Income</th>\n",
       "      <th>House Age</th>\n",
       "      <th>Number of Rooms</th>\n",
       "      <th>Number of Bedrooms</th>\n",
       "      <th>Area Population</th>\n",
       "      <th>Price</th>\n",
       "    </tr>\n",
       "  </thead>\n",
       "  <tbody>\n",
       "    <tr>\n",
       "      <th>count</th>\n",
       "      <td>4548.000000</td>\n",
       "      <td>4548.000000</td>\n",
       "      <td>4548.000000</td>\n",
       "      <td>4548.000000</td>\n",
       "      <td>4548.000000</td>\n",
       "      <td>4.548000e+03</td>\n",
       "    </tr>\n",
       "    <tr>\n",
       "      <th>mean</th>\n",
       "      <td>68611.700818</td>\n",
       "      <td>5.978918</td>\n",
       "      <td>6.987646</td>\n",
       "      <td>3.981693</td>\n",
       "      <td>36187.469334</td>\n",
       "      <td>1.233916e+06</td>\n",
       "    </tr>\n",
       "    <tr>\n",
       "      <th>std</th>\n",
       "      <td>10686.487761</td>\n",
       "      <td>0.990850</td>\n",
       "      <td>1.006587</td>\n",
       "      <td>1.230939</td>\n",
       "      <td>9910.189915</td>\n",
       "      <td>3.545676e+05</td>\n",
       "    </tr>\n",
       "    <tr>\n",
       "      <th>min</th>\n",
       "      <td>17796.631190</td>\n",
       "      <td>2.644304</td>\n",
       "      <td>3.236194</td>\n",
       "      <td>2.000000</td>\n",
       "      <td>172.610686</td>\n",
       "      <td>1.593866e+04</td>\n",
       "    </tr>\n",
       "    <tr>\n",
       "      <th>25%</th>\n",
       "      <td>61485.150192</td>\n",
       "      <td>5.332187</td>\n",
       "      <td>6.299692</td>\n",
       "      <td>3.140000</td>\n",
       "      <td>29423.163510</td>\n",
       "      <td>9.977751e+05</td>\n",
       "    </tr>\n",
       "    <tr>\n",
       "      <th>50%</th>\n",
       "      <td>68817.036575</td>\n",
       "      <td>5.960872</td>\n",
       "      <td>7.002245</td>\n",
       "      <td>4.050000</td>\n",
       "      <td>36215.560985</td>\n",
       "      <td>1.234571e+06</td>\n",
       "    </tr>\n",
       "    <tr>\n",
       "      <th>75%</th>\n",
       "      <td>75820.741747</td>\n",
       "      <td>6.658368</td>\n",
       "      <td>7.665871</td>\n",
       "      <td>4.490000</td>\n",
       "      <td>42880.554642</td>\n",
       "      <td>1.470616e+06</td>\n",
       "    </tr>\n",
       "    <tr>\n",
       "      <th>max</th>\n",
       "      <td>107701.748400</td>\n",
       "      <td>9.519088</td>\n",
       "      <td>10.759588</td>\n",
       "      <td>6.500000</td>\n",
       "      <td>69592.040240</td>\n",
       "      <td>2.469066e+06</td>\n",
       "    </tr>\n",
       "  </tbody>\n",
       "</table>\n",
       "</div>"
      ],
      "text/plain": [
       "       Avg. Area Income    House Age  Number of Rooms  Number of Bedrooms  \\\n",
       "count       4548.000000  4548.000000      4548.000000         4548.000000   \n",
       "mean       68611.700818     5.978918         6.987646            3.981693   \n",
       "std        10686.487761     0.990850         1.006587            1.230939   \n",
       "min        17796.631190     2.644304         3.236194            2.000000   \n",
       "25%        61485.150192     5.332187         6.299692            3.140000   \n",
       "50%        68817.036575     5.960872         7.002245            4.050000   \n",
       "75%        75820.741747     6.658368         7.665871            4.490000   \n",
       "max       107701.748400     9.519088        10.759588            6.500000   \n",
       "\n",
       "       Area Population         Price  \n",
       "count      4548.000000  4.548000e+03  \n",
       "mean      36187.469334  1.233916e+06  \n",
       "std        9910.189915  3.545676e+05  \n",
       "min         172.610686  1.593866e+04  \n",
       "25%       29423.163510  9.977751e+05  \n",
       "50%       36215.560985  1.234571e+06  \n",
       "75%       42880.554642  1.470616e+06  \n",
       "max       69592.040240  2.469066e+06  "
      ]
     },
     "execution_count": 6,
     "metadata": {},
     "output_type": "execute_result"
    }
   ],
   "source": [
    "#İstatiksel özetini alalım\n",
    "data.describe()"
   ]
  },
  {
   "cell_type": "code",
   "execution_count": 15,
   "id": "62f7d313",
   "metadata": {},
   "outputs": [],
   "source": [
    "#Veri tiplerinde dönüşümler\n",
    "data['House Age']=data['House Age'].astype(int)\n",
    "data['Number of Bedrooms']=data['Number of Bedrooms'].astype(int)\n"
   ]
  },
  {
   "cell_type": "code",
   "execution_count": 16,
   "id": "5c6b867d",
   "metadata": {},
   "outputs": [],
   "source": [
    "#Ev fiyatını dönüştürelim\n",
    "data['Price'] = data['Price'].round().astype(int)"
   ]
  },
  {
   "cell_type": "code",
   "execution_count": 17,
   "id": "58035264",
   "metadata": {},
   "outputs": [],
   "source": [
    "#Adres değişkenini numeric hale dönüştürelim\n",
    "from sklearn.preprocessing import LabelEncoder\n",
    "label_encoder=LabelEncoder()\n",
    "data['Address']= label_encoder.fit_transform(data['Address'])"
   ]
  },
  {
   "cell_type": "code",
   "execution_count": 18,
   "id": "67be8f10",
   "metadata": {},
   "outputs": [
    {
     "data": {
      "text/html": [
       "<div>\n",
       "<style scoped>\n",
       "    .dataframe tbody tr th:only-of-type {\n",
       "        vertical-align: middle;\n",
       "    }\n",
       "\n",
       "    .dataframe tbody tr th {\n",
       "        vertical-align: top;\n",
       "    }\n",
       "\n",
       "    .dataframe thead th {\n",
       "        text-align: right;\n",
       "    }\n",
       "</style>\n",
       "<table border=\"1\" class=\"dataframe\">\n",
       "  <thead>\n",
       "    <tr style=\"text-align: right;\">\n",
       "      <th></th>\n",
       "      <th>Avg. Area Income</th>\n",
       "      <th>House Age</th>\n",
       "      <th>Number of Rooms</th>\n",
       "      <th>Number of Bedrooms</th>\n",
       "      <th>Area Population</th>\n",
       "      <th>Price</th>\n",
       "      <th>Address</th>\n",
       "      <th>Number of  Rooms</th>\n",
       "    </tr>\n",
       "  </thead>\n",
       "  <tbody>\n",
       "    <tr>\n",
       "      <th>0</th>\n",
       "      <td>79545.45857</td>\n",
       "      <td>5</td>\n",
       "      <td>7.009188</td>\n",
       "      <td>4</td>\n",
       "      <td>23086.80050</td>\n",
       "      <td>1059034</td>\n",
       "      <td>886</td>\n",
       "      <td>7</td>\n",
       "    </tr>\n",
       "    <tr>\n",
       "      <th>1</th>\n",
       "      <td>79248.64245</td>\n",
       "      <td>6</td>\n",
       "      <td>6.730821</td>\n",
       "      <td>3</td>\n",
       "      <td>40173.07217</td>\n",
       "      <td>1505891</td>\n",
       "      <td>793</td>\n",
       "      <td>6</td>\n",
       "    </tr>\n",
       "    <tr>\n",
       "      <th>2</th>\n",
       "      <td>61287.06718</td>\n",
       "      <td>5</td>\n",
       "      <td>8.512727</td>\n",
       "      <td>5</td>\n",
       "      <td>36882.15940</td>\n",
       "      <td>1058988</td>\n",
       "      <td>3711</td>\n",
       "      <td>8</td>\n",
       "    </tr>\n",
       "    <tr>\n",
       "      <th>3</th>\n",
       "      <td>63345.24005</td>\n",
       "      <td>7</td>\n",
       "      <td>5.586729</td>\n",
       "      <td>3</td>\n",
       "      <td>34310.24283</td>\n",
       "      <td>1260617</td>\n",
       "      <td>4367</td>\n",
       "      <td>5</td>\n",
       "    </tr>\n",
       "    <tr>\n",
       "      <th>4</th>\n",
       "      <td>59982.19723</td>\n",
       "      <td>5</td>\n",
       "      <td>7.839388</td>\n",
       "      <td>4</td>\n",
       "      <td>26354.10947</td>\n",
       "      <td>630943</td>\n",
       "      <td>4317</td>\n",
       "      <td>7</td>\n",
       "    </tr>\n",
       "  </tbody>\n",
       "</table>\n",
       "</div>"
      ],
      "text/plain": [
       "   Avg. Area Income  House Age  Number of Rooms  Number of Bedrooms  \\\n",
       "0       79545.45857          5         7.009188                   4   \n",
       "1       79248.64245          6         6.730821                   3   \n",
       "2       61287.06718          5         8.512727                   5   \n",
       "3       63345.24005          7         5.586729                   3   \n",
       "4       59982.19723          5         7.839388                   4   \n",
       "\n",
       "   Area Population    Price  Address  Number of  Rooms  \n",
       "0      23086.80050  1059034      886                 7  \n",
       "1      40173.07217  1505891      793                 6  \n",
       "2      36882.15940  1058988     3711                 8  \n",
       "3      34310.24283  1260617     4367                 5  \n",
       "4      26354.10947   630943     4317                 7  "
      ]
     },
     "execution_count": 18,
     "metadata": {},
     "output_type": "execute_result"
    }
   ],
   "source": [
    "#Veri setimizi tekrar inceleyelim\n",
    "data.head()"
   ]
  },
  {
   "cell_type": "code",
   "execution_count": 19,
   "id": "ce5a0a41",
   "metadata": {},
   "outputs": [],
   "source": [
    "data['Number of  Rooms']=data['Number of Rooms'].astype(int)"
   ]
  },
  {
   "cell_type": "code",
   "execution_count": 20,
   "id": "92a8ac21",
   "metadata": {},
   "outputs": [
    {
     "data": {
      "text/html": [
       "<div>\n",
       "<style scoped>\n",
       "    .dataframe tbody tr th:only-of-type {\n",
       "        vertical-align: middle;\n",
       "    }\n",
       "\n",
       "    .dataframe tbody tr th {\n",
       "        vertical-align: top;\n",
       "    }\n",
       "\n",
       "    .dataframe thead th {\n",
       "        text-align: right;\n",
       "    }\n",
       "</style>\n",
       "<table border=\"1\" class=\"dataframe\">\n",
       "  <thead>\n",
       "    <tr style=\"text-align: right;\">\n",
       "      <th></th>\n",
       "      <th>Avg. Area Income</th>\n",
       "      <th>House Age</th>\n",
       "      <th>Number of Rooms</th>\n",
       "      <th>Number of Bedrooms</th>\n",
       "      <th>Area Population</th>\n",
       "      <th>Price</th>\n",
       "      <th>Address</th>\n",
       "      <th>Number of  Rooms</th>\n",
       "    </tr>\n",
       "  </thead>\n",
       "  <tbody>\n",
       "    <tr>\n",
       "      <th>0</th>\n",
       "      <td>79545.45857</td>\n",
       "      <td>5</td>\n",
       "      <td>7.009188</td>\n",
       "      <td>4</td>\n",
       "      <td>23086.80050</td>\n",
       "      <td>1059034</td>\n",
       "      <td>886</td>\n",
       "      <td>7</td>\n",
       "    </tr>\n",
       "    <tr>\n",
       "      <th>1</th>\n",
       "      <td>79248.64245</td>\n",
       "      <td>6</td>\n",
       "      <td>6.730821</td>\n",
       "      <td>3</td>\n",
       "      <td>40173.07217</td>\n",
       "      <td>1505891</td>\n",
       "      <td>793</td>\n",
       "      <td>6</td>\n",
       "    </tr>\n",
       "    <tr>\n",
       "      <th>2</th>\n",
       "      <td>61287.06718</td>\n",
       "      <td>5</td>\n",
       "      <td>8.512727</td>\n",
       "      <td>5</td>\n",
       "      <td>36882.15940</td>\n",
       "      <td>1058988</td>\n",
       "      <td>3711</td>\n",
       "      <td>8</td>\n",
       "    </tr>\n",
       "    <tr>\n",
       "      <th>3</th>\n",
       "      <td>63345.24005</td>\n",
       "      <td>7</td>\n",
       "      <td>5.586729</td>\n",
       "      <td>3</td>\n",
       "      <td>34310.24283</td>\n",
       "      <td>1260617</td>\n",
       "      <td>4367</td>\n",
       "      <td>5</td>\n",
       "    </tr>\n",
       "    <tr>\n",
       "      <th>4</th>\n",
       "      <td>59982.19723</td>\n",
       "      <td>5</td>\n",
       "      <td>7.839388</td>\n",
       "      <td>4</td>\n",
       "      <td>26354.10947</td>\n",
       "      <td>630943</td>\n",
       "      <td>4317</td>\n",
       "      <td>7</td>\n",
       "    </tr>\n",
       "  </tbody>\n",
       "</table>\n",
       "</div>"
      ],
      "text/plain": [
       "   Avg. Area Income  House Age  Number of Rooms  Number of Bedrooms  \\\n",
       "0       79545.45857          5         7.009188                   4   \n",
       "1       79248.64245          6         6.730821                   3   \n",
       "2       61287.06718          5         8.512727                   5   \n",
       "3       63345.24005          7         5.586729                   3   \n",
       "4       59982.19723          5         7.839388                   4   \n",
       "\n",
       "   Area Population    Price  Address  Number of  Rooms  \n",
       "0      23086.80050  1059034      886                 7  \n",
       "1      40173.07217  1505891      793                 6  \n",
       "2      36882.15940  1058988     3711                 8  \n",
       "3      34310.24283  1260617     4367                 5  \n",
       "4      26354.10947   630943     4317                 7  "
      ]
     },
     "execution_count": 20,
     "metadata": {},
     "output_type": "execute_result"
    }
   ],
   "source": [
    "data.head()"
   ]
  },
  {
   "cell_type": "code",
   "execution_count": 21,
   "id": "55c42688",
   "metadata": {},
   "outputs": [],
   "source": [
    "\n",
    "import numpy as np                        # Nümerik işlemler için\n",
    "from sklearn.model_selection import train_test_split  # Eğitim ve test setine bölme\n",
    "from sklearn.linear_model import LinearRegression     # Çoklu lineer regresyon modeli\n",
    "from sklearn.metrics import mean_squared_error, r2_score  # Model değerlendirme metrikleri\n"
   ]
  },
  {
   "cell_type": "code",
   "execution_count": 24,
   "id": "3a1cb42a",
   "metadata": {},
   "outputs": [],
   "source": [
    "#Bağımlı bagımsız degiskenimizi belirleyelim\n",
    "X=data.drop('Price',axis=1)\n",
    "y=data[['Price']]"
   ]
  },
  {
   "cell_type": "code",
   "execution_count": 25,
   "id": "13bf690b",
   "metadata": {},
   "outputs": [],
   "source": [
    "#Veriyi test ve train seti olarak ayıralım\n",
    "X_train,X_test,y_train,y_test=train_test_split(X,y,test_size=0.2,random_state=42)"
   ]
  },
  {
   "cell_type": "code",
   "execution_count": 26,
   "id": "1c790f1b",
   "metadata": {},
   "outputs": [
    {
     "data": {
      "text/html": [
       "<style>#sk-container-id-1 {color: black;background-color: white;}#sk-container-id-1 pre{padding: 0;}#sk-container-id-1 div.sk-toggleable {background-color: white;}#sk-container-id-1 label.sk-toggleable__label {cursor: pointer;display: block;width: 100%;margin-bottom: 0;padding: 0.3em;box-sizing: border-box;text-align: center;}#sk-container-id-1 label.sk-toggleable__label-arrow:before {content: \"▸\";float: left;margin-right: 0.25em;color: #696969;}#sk-container-id-1 label.sk-toggleable__label-arrow:hover:before {color: black;}#sk-container-id-1 div.sk-estimator:hover label.sk-toggleable__label-arrow:before {color: black;}#sk-container-id-1 div.sk-toggleable__content {max-height: 0;max-width: 0;overflow: hidden;text-align: left;background-color: #f0f8ff;}#sk-container-id-1 div.sk-toggleable__content pre {margin: 0.2em;color: black;border-radius: 0.25em;background-color: #f0f8ff;}#sk-container-id-1 input.sk-toggleable__control:checked~div.sk-toggleable__content {max-height: 200px;max-width: 100%;overflow: auto;}#sk-container-id-1 input.sk-toggleable__control:checked~label.sk-toggleable__label-arrow:before {content: \"▾\";}#sk-container-id-1 div.sk-estimator input.sk-toggleable__control:checked~label.sk-toggleable__label {background-color: #d4ebff;}#sk-container-id-1 div.sk-label input.sk-toggleable__control:checked~label.sk-toggleable__label {background-color: #d4ebff;}#sk-container-id-1 input.sk-hidden--visually {border: 0;clip: rect(1px 1px 1px 1px);clip: rect(1px, 1px, 1px, 1px);height: 1px;margin: -1px;overflow: hidden;padding: 0;position: absolute;width: 1px;}#sk-container-id-1 div.sk-estimator {font-family: monospace;background-color: #f0f8ff;border: 1px dotted black;border-radius: 0.25em;box-sizing: border-box;margin-bottom: 0.5em;}#sk-container-id-1 div.sk-estimator:hover {background-color: #d4ebff;}#sk-container-id-1 div.sk-parallel-item::after {content: \"\";width: 100%;border-bottom: 1px solid gray;flex-grow: 1;}#sk-container-id-1 div.sk-label:hover label.sk-toggleable__label {background-color: #d4ebff;}#sk-container-id-1 div.sk-serial::before {content: \"\";position: absolute;border-left: 1px solid gray;box-sizing: border-box;top: 0;bottom: 0;left: 50%;z-index: 0;}#sk-container-id-1 div.sk-serial {display: flex;flex-direction: column;align-items: center;background-color: white;padding-right: 0.2em;padding-left: 0.2em;position: relative;}#sk-container-id-1 div.sk-item {position: relative;z-index: 1;}#sk-container-id-1 div.sk-parallel {display: flex;align-items: stretch;justify-content: center;background-color: white;position: relative;}#sk-container-id-1 div.sk-item::before, #sk-container-id-1 div.sk-parallel-item::before {content: \"\";position: absolute;border-left: 1px solid gray;box-sizing: border-box;top: 0;bottom: 0;left: 50%;z-index: -1;}#sk-container-id-1 div.sk-parallel-item {display: flex;flex-direction: column;z-index: 1;position: relative;background-color: white;}#sk-container-id-1 div.sk-parallel-item:first-child::after {align-self: flex-end;width: 50%;}#sk-container-id-1 div.sk-parallel-item:last-child::after {align-self: flex-start;width: 50%;}#sk-container-id-1 div.sk-parallel-item:only-child::after {width: 0;}#sk-container-id-1 div.sk-dashed-wrapped {border: 1px dashed gray;margin: 0 0.4em 0.5em 0.4em;box-sizing: border-box;padding-bottom: 0.4em;background-color: white;}#sk-container-id-1 div.sk-label label {font-family: monospace;font-weight: bold;display: inline-block;line-height: 1.2em;}#sk-container-id-1 div.sk-label-container {text-align: center;}#sk-container-id-1 div.sk-container {/* jupyter's `normalize.less` sets `[hidden] { display: none; }` but bootstrap.min.css set `[hidden] { display: none !important; }` so we also need the `!important` here to be able to override the default hidden behavior on the sphinx rendered scikit-learn.org. See: https://github.com/scikit-learn/scikit-learn/issues/21755 */display: inline-block !important;position: relative;}#sk-container-id-1 div.sk-text-repr-fallback {display: none;}</style><div id=\"sk-container-id-1\" class=\"sk-top-container\"><div class=\"sk-text-repr-fallback\"><pre>LinearRegression()</pre><b>In a Jupyter environment, please rerun this cell to show the HTML representation or trust the notebook. <br />On GitHub, the HTML representation is unable to render, please try loading this page with nbviewer.org.</b></div><div class=\"sk-container\" hidden><div class=\"sk-item\"><div class=\"sk-estimator sk-toggleable\"><input class=\"sk-toggleable__control sk-hidden--visually\" id=\"sk-estimator-id-1\" type=\"checkbox\" checked><label for=\"sk-estimator-id-1\" class=\"sk-toggleable__label sk-toggleable__label-arrow\">LinearRegression</label><div class=\"sk-toggleable__content\"><pre>LinearRegression()</pre></div></div></div></div></div>"
      ],
      "text/plain": [
       "LinearRegression()"
      ]
     },
     "execution_count": 26,
     "metadata": {},
     "output_type": "execute_result"
    }
   ],
   "source": [
    "#Model egitelim\n",
    "model=LinearRegression()\n",
    "model.fit(X_train,y_train)\n"
   ]
  },
  {
   "cell_type": "code",
   "execution_count": 27,
   "id": "2b08d5a1",
   "metadata": {},
   "outputs": [],
   "source": [
    "#Model ile tahmin\n",
    "y_predic=model.predict(X_test)"
   ]
  },
  {
   "cell_type": "code",
   "execution_count": 29,
   "id": "f96658dd",
   "metadata": {},
   "outputs": [],
   "source": [
    "#odel degerlendirmesi\n",
    "mse=mean_squared_error(y_test,y_predic)\n",
    "r2=r2_score(y_test,y_predic)"
   ]
  },
  {
   "cell_type": "code",
   "execution_count": 30,
   "id": "fdc714ee",
   "metadata": {},
   "outputs": [
    {
     "data": {
      "text/plain": [
       "12226650550.600155"
      ]
     },
     "execution_count": 30,
     "metadata": {},
     "output_type": "execute_result"
    }
   ],
   "source": [
    "mse"
   ]
  },
  {
   "cell_type": "code",
   "execution_count": 31,
   "id": "d2045c94",
   "metadata": {},
   "outputs": [
    {
     "data": {
      "text/plain": [
       "0.8931125003820874"
      ]
     },
     "execution_count": 31,
     "metadata": {},
     "output_type": "execute_result"
    }
   ],
   "source": [
    "r2"
   ]
  },
  {
   "cell_type": "code",
   "execution_count": 33,
   "id": "638d0471",
   "metadata": {},
   "outputs": [
    {
     "data": {
      "text/plain": [
       "Text(0.5, 1.0, 'Ev Fiyat Korelasyon Haritası')"
      ]
     },
     "execution_count": 33,
     "metadata": {},
     "output_type": "execute_result"
    },
    {
     "data": {
      "image/png": "[encoded data removed]",
      "text/plain": [
       "<Figure size 1000x600 with 2 Axes>"
      ]
     },
     "metadata": {},
     "output_type": "display_data"
    }
   ],
   "source": [
    "#Görselleştirme\n",
    "import matplotlib.pyplot as plt\n",
    "import seaborn as sns\n",
    "\n",
    "correlation=data.corr()\n",
    "\n",
    "plt.figure(figsize=(10,6))\n",
    "\n",
    "sns.heatmap(correlation,annot=True,cmap='coolwarm',fmt=\".2f\", linewidths=0.5)\n",
    "\n",
    "plt.title('Ev Fiyat Korelasyon Haritası')"
   ]
  },
  {
   "cell_type": "code",
   "execution_count": 41,
   "id": "70a98a81",
   "metadata": {},
   "outputs": [
    {
     "data": {
      "text/html": [
       "<div>\n",
       "<style scoped>\n",
       "    .dataframe tbody tr th:only-of-type {\n",
       "        vertical-align: middle;\n",
       "    }\n",
       "\n",
       "    .dataframe tbody tr th {\n",
       "        vertical-align: top;\n",
       "    }\n",
       "\n",
       "    .dataframe thead th {\n",
       "        text-align: right;\n",
       "    }\n",
       "</style>\n",
       "<table border=\"1\" class=\"dataframe\">\n",
       "  <thead>\n",
       "    <tr style=\"text-align: right;\">\n",
       "      <th></th>\n",
       "      <th>Asıl Fiyat</th>\n",
       "      <th>Tahmin fiyatı</th>\n",
       "    </tr>\n",
       "  </thead>\n",
       "  <tbody>\n",
       "    <tr>\n",
       "      <th>0</th>\n",
       "      <td>1399663</td>\n",
       "      <td>1239158</td>\n",
       "    </tr>\n",
       "    <tr>\n",
       "      <th>1</th>\n",
       "      <td>398910</td>\n",
       "      <td>404502</td>\n",
       "    </tr>\n",
       "    <tr>\n",
       "      <th>2</th>\n",
       "      <td>744000</td>\n",
       "      <td>1043447</td>\n",
       "    </tr>\n",
       "    <tr>\n",
       "      <th>3</th>\n",
       "      <td>1312467</td>\n",
       "      <td>1336758</td>\n",
       "    </tr>\n",
       "    <tr>\n",
       "      <th>4</th>\n",
       "      <td>1393747</td>\n",
       "      <td>1426680</td>\n",
       "    </tr>\n",
       "  </tbody>\n",
       "</table>\n",
       "</div>"
      ],
      "text/plain": [
       "   Asıl Fiyat  Tahmin fiyatı\n",
       "0     1399663        1239158\n",
       "1      398910         404502\n",
       "2      744000        1043447\n",
       "3     1312467        1336758\n",
       "4     1393747        1426680"
      ]
     },
     "execution_count": 41,
     "metadata": {},
     "output_type": "execute_result"
    }
   ],
   "source": [
    "#Tahminlerle fiyat karşılaştırması\n",
    "y_predic=y_predic.round().astype(int)\n",
    "y_test_values=y_test.values.round().astype(int)\n",
    "y_predic=y_predic.flatten()\n",
    "y_test_values=y_test.values.flatten()\n",
    "\n",
    "result_data=pd.DataFrame({'Asıl Fiyat':y_test_values,\"Tahmin fiyatı\":y_predic})\n",
    "\n",
    "#Birkaç satır\n",
    "result_data.head()\n"
   ]
  },
  {
   "cell_type": "code",
   "execution_count": null,
   "id": "c60942f9",
   "metadata": {},
   "outputs": [],
   "source": []
  },
  {
   "cell_type": "code",
   "execution_count": null,
   "id": "a241394d",
   "metadata": {},
   "outputs": [],
   "source": []
  }
 ],
 "metadata": {
  "kernelspec": {
   "display_name": "Python 3 (ipykernel)",
   "language": "python",
   "name": "python3"
  },
  "language_info": {
   "codemirror_mode": {
    "name": "ipython",
    "version": 3
   },
   "file_extension": ".py",
   "mimetype": "text/x-python",
   "name": "python",
   "nbconvert_exporter": "python",
   "pygments_lexer": "ipython3",
   "version": "3.11.3"
  }
 },
 "nbformat": 4,
 "nbformat_minor": 5
}
